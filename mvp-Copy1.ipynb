{
 "cells": [
  {
   "cell_type": "code",
   "execution_count": 1,
   "metadata": {},
   "outputs": [],
   "source": [
    "# postgres passwd\n",
    "passwd = \"arst\"\n"
   ]
  },
  {
   "cell_type": "code",
   "execution_count": 1,
   "metadata": {},
   "outputs": [],
   "source": [
    "import psycopg2 as pg\n",
    "import pandas as pd\n",
    "import pandas.io.sql as pd_sql\n",
    "from sklearn.neighbors import KNeighborsClassifier\n",
    "from sklearn.model_selection import train_test_split\n",
    "from sklearn.preprocessing import StandardScaler\n",
    "from sklearn.metrics import accuracy_score, confusion_matrix, precision_recall_fscore_support\n",
    "from sklearn.dummy import DummyClassifier\n",
    "from sklearn.linear_model import LogisticRegression\n",
    "from sklearn.tree import DecisionTreeClassifier\n",
    "from sklearn.ensemble import RandomForestClassifier, BaggingClassifier\n",
    "from sklearn.svm import SVC\n",
    "import numpy as np\n",
    "import seaborn as sns\n",
    "import warnings\n",
    "warnings.filterwarnings(\"ignore\")\n",
    "from queries import *\n",
    "from model_test import ModelTest\n",
    "\n",
    "# We are also going to do some basic viz\n",
    "import matplotlib.pyplot as plt\n",
    "plt.style.use('fivethirtyeight')\n",
    "\n",
    "%matplotlib inline"
   ]
  },
  {
   "cell_type": "markdown",
   "metadata": {},
   "source": [
    "!dropdb chicago_crimes\n",
    "!createdb chicago_crimes"
   ]
  },
  {
   "cell_type": "code",
   "execution_count": null,
   "metadata": {},
   "outputs": [],
   "source": [
    "BaggingClassifier()"
   ]
  },
  {
   "cell_type": "code",
   "execution_count": null,
   "metadata": {},
   "outputs": [],
   "source": [
    "SVC()"
   ]
  },
  {
   "cell_type": "code",
   "execution_count": 3,
   "metadata": {},
   "outputs": [],
   "source": [
    "connection_args = {\n",
    "    'host': '127.0.0.1', # You'll have to update this to your IP\n",
    "    'user': 'john',    # username\n",
    "    'password': passwd,\n",
    "    'dbname': 'chicago_crimes',\n",
    "    'port': 5432}\n",
    "connection = pg.connect(**connection_args)\n",
    "cursor = connection.cursor()"
   ]
  },
  {
   "cell_type": "markdown",
   "metadata": {},
   "source": [
    "## basic cleaning"
   ]
  },
  {
   "cell_type": "markdown",
   "metadata": {},
   "source": [
    "cwd = !pwd\n",
    "cwd = cwd[0]\n",
    "csvs = !ls data/Chicago_Crimes_20*.csv\n",
    "#!chmod a+rX ../.. .. . ./data ./data/*"
   ]
  },
  {
   "cell_type": "markdown",
   "metadata": {},
   "source": [
    "#!chmod a+rX ../.. .. . ./data ./data/*\n",
    "#!sed -i '/5302454,HM711750/d' data/Chicago_Crimes_2005_to_2007.csv\n",
    "#!sed -i '/08\\/17\\/2015 03:03:40 PM,,,/d' data/Chicago_Crimes_2008_to_2011.csv"
   ]
  },
  {
   "cell_type": "markdown",
   "metadata": {},
   "source": [
    "cursor.execute(build_tables_sql)\n",
    "for filename in csvs:\n",
    "    filepath = cwd + \"/\" + filename\n",
    "    print(filepath)\n",
    "    query = load_csv_str.format(filepath)\n",
    "    cursor.execute(query)\n",
    "cursor.execute(\"COMMIT;\")"
   ]
  },
  {
   "cell_type": "markdown",
   "metadata": {},
   "source": [
    "### Data retrieval"
   ]
  },
  {
   "cell_type": "code",
   "execution_count": 6,
   "metadata": {},
   "outputs": [],
   "source": [
    "target = 'primary_type'\n",
    "features_sql = \", \".join([\n",
    "     \"latitude\"\n",
    "    , \"longitude\"\n",
    "    , \"datetime\"\n",
    "    , \"domestic\"\n",
    "    #, \"location_desc\"\n",
    "    ])\n",
    "\n",
    "query = \"SELECT {} FROM crimes WHERE latitude > 36.62 AND datetime > '2015-01-01'\"\n",
    "ys = pd_sql.read_sql(query.format(target), connection)\n",
    "Xs = pd_sql.read_sql(query.format(features_sql), connection)"
   ]
  },
  {
   "cell_type": "markdown",
   "metadata": {},
   "source": [
    "query = \"SELECT primary_type, count(*) FROM crimes GROUP BY primary_type ORDER BY count DESC\"\n",
    "pd_sql.read_sql(query, connection)"
   ]
  },
  {
   "cell_type": "markdown",
   "metadata": {},
   "source": [
    "### Modelling"
   ]
  },
  {
   "cell_type": "code",
   "execution_count": 6,
   "metadata": {},
   "outputs": [],
   "source": [
    "ssc = StandardScaler()\n",
    "Xs = ssc.fit_transform(Xs)\n",
    "data_tuple = train_test_split(Xs, ys, random_state=4)"
   ]
  },
  {
   "cell_type": "code",
   "execution_count": 7,
   "metadata": {},
   "outputs": [],
   "source": [
    "dummies = \n",
    "\n",
    "depths = range(15,25,1)\n",
    "trees = [RandomForestClassifier(n_estimators=250, max_depth=depth, n_jobs = 3 ) for depth in depths] \n",
    "\n",
    "knn_neighbors = range(80,150,9)\n",
    "knns =  [KNeighborsClassifier(n_neighbors=n, metric=\"manhattan\", n_jobs=3)\n",
    "            for n in knn_neighbors]\n",
    "\n",
    "logs = [LogisticRegression(n_jobs=3, dual=False),\n",
    "        LogisticRegression(n_jobs=3, solver=\"sag\"),\n",
    "        LogisticRegression(n_jobs=3, solver=\"sag\", tol=0.1)]\n",
    "models = trees + knns + logs"
   ]
  },
  {
   "cell_type": "code",
   "execution_count": null,
   "metadata": {},
   "outputs": [],
   "source": [
    "last_record = !tail model_results.csv -n 1\n",
    "last_record_list = str(last_record).split(\",\")\n",
    "last_id_str = last_record_list[0][2:]\n",
    "last_id = int(last_id_str)"
   ]
  },
  {
   "cell_type": "code",
   "execution_count": null,
   "metadata": {},
   "outputs": [],
   "source": [
    "for i, m in enumerate(models):\n",
    "    test = ModelTest(m, *data_tuple, id_ = last_id + 1 +i)\n",
    "    test.log()"
   ]
  },
  {
   "cell_type": "code",
   "execution_count": null,
   "metadata": {},
   "outputs": [],
   "source": [
    "wtf_q = \"\"\"\n",
    "    SELECT * FROM crimes \n",
    "    WHERE latitude < 36.62 OR longitude < -91.6\n",
    "    \"\"\"\n",
    "\n",
    "wtf_df = pd_sql.read_sql(wtf_q, connection)\n",
    "wtf_df"
   ]
  },
  {
   "cell_type": "code",
   "execution_count": null,
   "metadata": {},
   "outputs": [],
   "source": []
  },
  {
   "cell_type": "code",
   "execution_count": null,
   "metadata": {},
   "outputs": [],
   "source": []
  }
 ],
 "metadata": {
  "kernelspec": {
   "display_name": "Python 3",
   "language": "python",
   "name": "python3"
  },
  "language_info": {
   "codemirror_mode": {
    "name": "ipython",
    "version": 3
   },
   "file_extension": ".py",
   "mimetype": "text/x-python",
   "name": "python",
   "nbconvert_exporter": "python",
   "pygments_lexer": "ipython3",
   "version": "3.6.5"
  }
 },
 "nbformat": 4,
 "nbformat_minor": 2
}
